{
  "nbformat": 4,
  "nbformat_minor": 0,
  "metadata": {
    "colab": {
      "name": "download_file_from_internet v2",
      "provenance": [],
      "collapsed_sections": [],
      "toc_visible": true
    },
    "kernelspec": {
      "display_name": "Python 3",
      "name": "python3"
    }
  },
  "cells": [
    {
      "cell_type": "code",
      "metadata": {
        "colab": {
          "base_uri": "https://localhost:8080/"
        },
        "id": "6u-KD7A27S_d",
        "outputId": "769cc6a0-3aa9-4b67-f14f-c27581f70e4b"
      },
      "source": [
        "# @title ##**All of the request will send from this Ip address. This is a google server, so you will get good internet connection. It is not a vpn. Don't download any illegal things.** { display-mode: \"form\" }\r\n",
        "import requests\r\n",
        "url=\"https://ipinfo.io\"\r\n",
        "resp=requests.get(url)\r\n",
        "print(resp.text)\r\n"
      ],
      "execution_count": null,
      "outputs": [
        {
          "output_type": "stream",
          "text": [
            "{\n",
            "  \"ip\": \"34.90.194.217\",\n",
            "  \"hostname\": \"217.194.90.34.bc.googleusercontent.com\",\n",
            "  \"city\": \"Groningen\",\n",
            "  \"region\": \"Groningen\",\n",
            "  \"country\": \"NL\",\n",
            "  \"loc\": \"53.2192,6.5667\",\n",
            "  \"org\": \"AS15169 Google LLC\",\n",
            "  \"postal\": \"9711\",\n",
            "  \"timezone\": \"Europe/Amsterdam\",\n",
            "  \"readme\": \"https://ipinfo.io/missingauth\"\n",
            "}\n"
          ],
          "name": "stdout"
        }
      ]
    },
    {
      "cell_type": "code",
      "metadata": {
        "id": "eLb-nY4wKJXt"
      },
      "source": [
        "# @title ##**It stop reconneting when uploading** { display-mode: \"form\" }\r\n",
        "\r\n",
        "import IPython\r\n",
        "from google.colab import output\r\n",
        "\r\n",
        "display(IPython.display.Javascript('''\r\n",
        "function ClickConnect(){\r\n",
        "  btn = document.querySelector(\"colab-connect-button\")\r\n",
        "  if (btn != null){\r\n",
        "    console.log(\"Click colab-connect-button\"); \r\n",
        "    btn.click() \r\n",
        "    }\r\n",
        "    \r\n",
        "  btn = document.getElementById('ok')\r\n",
        "  if (btn != null){\r\n",
        "    console.log(\"Click reconnect\"); \r\n",
        "    btn.click() \r\n",
        "    }\r\n",
        "  }\r\n",
        "    \r\n",
        "setInterval(ClickConnect,60000)\r\n",
        "'''))"
      ],
      "execution_count": null,
      "outputs": []
    },
    {
      "cell_type": "code",
      "metadata": {
        "colab": {
          "base_uri": "https://localhost:8080/"
        },
        "id": "k3P2au1z14Qc",
        "outputId": "15a93b39-92ac-407f-bc8f-ce1b505b3135"
      },
      "source": [
        "# @title ##**Select your storage type** { display-mode: \"form\" }\n",
        "\n",
        "!pip install kora\n",
        "!pip install youtube_dl\n",
        "!python -m pip install --upgrade pip setuptools wheel\n",
        "!python -m pip install lbry-libtorrent\n",
        "import requests \n",
        "from IPython.display import clear_output\n",
        "from google.colab import drive\n",
        "from google.colab import files\n",
        "import glob\n",
        "import os\n",
        "import math\n",
        "from kora import drive\n",
        "import subprocess\n",
        "clear_output()\n",
        "storage=\"google drive\"#@param[\"temporary\",\"google drive\"]\n",
        "if storage==\"google drive\":\n",
        "  drive.mount('/content/gdrive')\n",
        "  os.chdir(\"/content/gdrive/My Drive\")\n",
        "  # clear_output()\n",
        "  try:\n",
        "    os.mkdir(\"download_from_colab\")\n",
        "  except:\n",
        "    pass\n",
        "  os.chdir(\"/content/gdrive/My Drive/download_from_colab\")\n",
        "  print(\"Using drive as a storage\")\n",
        "elif storage==\"temporary\":\n",
        "  os.chdir(\"/content/\")\n",
        "  try:\n",
        "    os.mkdir(\"download_from_colab\")\n",
        "  except:\n",
        "    pass\n",
        "  os.chdir(\"/content/download_from_colab\")\n",
        "  print(\"Using colab as a temporary storage\") "
      ],
      "execution_count": null,
      "outputs": [
        {
          "output_type": "stream",
          "text": [
            "Mounted at /content/gdrive\n",
            "Using drive as a storage\n"
          ],
          "name": "stdout"
        }
      ]
    },
    {
      "cell_type": "code",
      "metadata": {
        "colab": {
          "base_uri": "https://localhost:8080/"
        },
        "id": "XinkViT2PX7F",
        "outputId": "c32dba07-92be-49bf-8294-c9dea84c3ed6"
      },
      "source": [
        "# @title ##**If you download from link** { display-mode: \"form\" }\n",
        "\n",
        "download_link= \"\"#@param {type:\"string\"}\n",
        "r = requests.get(download_link) \n",
        "file_name=\"\"#@param {type:\"string\"}\n",
        "with open(file_name,'wb') as f: \n",
        "\tf.write(r.content) \n",
        "print(\"Download Successful!\")"
      ],
      "execution_count": null,
      "outputs": [
        {
          "output_type": "stream",
          "text": [
            "Download Successful!\n"
          ],
          "name": "stdout"
        }
      ]
    },
    {
      "cell_type": "code",
      "metadata": {
        "colab": {
          "base_uri": "https://localhost:8080/"
        },
        "id": "raqjtNbuP_HV",
        "outputId": "e75dfdf1-edaf-4378-f01e-46ddb09c0aec"
      },
      "source": [
        "# @title ##**Download file from drive link** { display-mode: \"form\" }\n",
        "# #@markdown ### Default leave it blank (If you not select \"Download from link\" ):\n",
        "drive_download_link = \"\" #@param {type:\"string\"}\n",
        "# Define some helper functions for downloading pretrained model\n",
        "# taken from this StackOverflow answer: https://stackoverflow.com/a/39225039\n",
        "\n",
        "\n",
        "def download_file_from_google_drive(id, destination):\n",
        "    URL = \"https://docs.google.com/uc?export=download\"\n",
        "\n",
        "    session = requests.Session()\n",
        "\n",
        "    response = session.get(URL, params = { 'id' : id }, stream = True)\n",
        "    token = get_confirm_token(response)\n",
        "\n",
        "    if token:\n",
        "        params = { 'id' : id, 'confirm' : token }\n",
        "        response = session.get(URL, params = params, stream = True)\n",
        "\n",
        "    save_response_content(response, destination)    \n",
        "\n",
        "def get_confirm_token(response):\n",
        "    for key, value in response.cookies.items():\n",
        "        if key.startswith('download_warning'):\n",
        "            return value\n",
        "\n",
        "    return None\n",
        "\n",
        "def save_response_content(response, destination):\n",
        "    CHUNK_SIZE = 32768\n",
        "\n",
        "    with open(destination, \"wb\") as f:\n",
        "        for chunk in response.iter_content(CHUNK_SIZE):\n",
        "            if chunk: # filter out keep-alive new chunks\n",
        "                f.write(chunk)\n",
        "\n",
        "\n",
        "       \n",
        "file_id = drive_download_link.split('/')[-2]\n",
        "give_file_name =\"\"#@param {type:\"string\"}\n",
        "try:\n",
        "  download_file_from_google_drive(file_id, give_file_name)\n",
        "  print(\"Download successful!\")\n",
        "except:\n",
        "  print(\"Download failed try again\")\n"
      ],
      "execution_count": null,
      "outputs": [
        {
          "output_type": "stream",
          "text": [
            "Download successful!\n"
          ],
          "name": "stdout"
        }
      ]
    },
    {
      "cell_type": "code",
      "metadata": {
        "id": "t7mtaBLdPnun"
      },
      "source": [
        "# @title ##**Download folder from drive link** { display-mode: \"form\" }\n",
        "drive_folder_download_link = \"\" #@param {type:\"string\"}\n",
        "folder_id = drive_folder_download_link.split('/')[-1].split(\"?\")[0]\n",
        "drive.download_folder(folder_id)\n",
        "clear_output()\n",
        "print(\"Download successful!\")"
      ],
      "execution_count": null,
      "outputs": []
    },
    {
      "cell_type": "code",
      "metadata": {
        "colab": {
          "base_uri": "https://localhost:8080/"
        },
        "id": "yqF1A2EUW3TV",
        "outputId": "f127244a-5852-4c72-8df2-d1bc4d9cab23"
      },
      "source": [
        "# @title ##**Know the file size** { display-mode: \"form\" }\n",
        "\n",
        "def convert_size(size_bytes):\n",
        "   if size_bytes == 0:\n",
        "       return \"0B\"\n",
        "   size_name = (\"B\", \"KB\", \"MB\", \"GB\", \"TB\", \"PB\", \"EB\", \"ZB\", \"YB\")\n",
        "   i = int(math.floor(math.log(size_bytes, 1024)))\n",
        "   p = math.pow(1024, i)\n",
        "   s = round(size_bytes / p, 2)\n",
        "   return \"%s %s\" % (s, size_name[i]) \n",
        "enter_the_file_path=\"\"#@param {type:\"string\"}   \n",
        "size= os.path.getsize(enter_the_file_path)\n",
        "print(f\"File size: {convert_size(size)}\")   "
      ],
      "execution_count": null,
      "outputs": [
        {
          "output_type": "stream",
          "text": [
            "File size: 52.26 KB\n"
          ],
          "name": "stdout"
        }
      ]
    },
    {
      "cell_type": "code",
      "metadata": {
        "colab": {
          "base_uri": "https://localhost:8080/",
          "height": 416
        },
        "id": "GLGuGRLzr6U3",
        "outputId": "0aeb1078-15ac-4390-ceee-821596d39eb4"
      },
      "source": [
        "# @title ##**Check 4k video quality** { display-mode: \"form\" }\r\n",
        "#@markdown ##### Copy the output and run into next cell(if you are using youtube video)\r\n",
        "\r\n",
        "test_youtube_link = \"\" #@param {type:\"string\"}\r\n",
        "youtube_quality_id=test_youtube_link.split(\"/\")\r\n",
        "four_k_quality_check=f\"!youtube-dl --list-formats https://www.youtube.com/watch?v={youtube_quality_id[-1]} | grep 2160\"\r\n",
        "html_code=\"<h3>Watch original youtube video</h3>\"\r\n",
        "display(HTML(html_code))\r\n",
        "youtube_video_display=\"\"\r\n",
        "youtube_video_display='<iframe width=\"'+str(560)+'\" height=\"'+str(315)+'\"\\nsrc=\"https://www.youtube.com/embed/'+youtube_id[-1]+'\"></iframe>'\r\n",
        "display(HTML(youtube_video_display))\r\n",
        "print(\"Copy This link for 4k video\")          \r\n",
        "four_k_quality_check\r\n"
      ],
      "execution_count": null,
      "outputs": [
        {
          "output_type": "display_data",
          "data": {
            "text/html": [
              "<h3>Watch original youtube video</h3>"
            ],
            "text/plain": [
              "<IPython.core.display.HTML object>"
            ]
          },
          "metadata": {
            "tags": []
          }
        },
        {
          "output_type": "display_data",
          "data": {
            "text/html": [
              "<iframe width=\"560\" height=\"315\"\n",
              "src=\"https://www.youtube.com/embed/OkXttCJFL5g\"></iframe>"
            ],
            "text/plain": [
              "<IPython.core.display.HTML object>"
            ]
          },
          "metadata": {
            "tags": []
          }
        },
        {
          "output_type": "stream",
          "text": [
            "Copy This link for 4k video\n"
          ],
          "name": "stdout"
        },
        {
          "output_type": "execute_result",
          "data": {
            "application/vnd.google.colaboratory.intrinsic+json": {
              "type": "string"
            },
            "text/plain": [
              "'!youtube-dl --list-formats https://www.youtube.com/watch?v=LXb3EKWsInQ | grep 2160'"
            ]
          },
          "metadata": {
            "tags": []
          },
          "execution_count": 42
        }
      ]
    },
    {
      "cell_type": "code",
      "metadata": {
        "colab": {
          "base_uri": "https://localhost:8080/",
          "height": 35
        },
        "id": "lKnxteOosCiV",
        "outputId": "471b82e4-069a-4886-8402-52229d0444c6"
      },
      "source": [
        "# @title ##**Check all video quality** { display-mode: \"form\" }\r\n",
        "#@markdown ##### Copy the output and run into next cell(if you are using youtube video)\r\n",
        "check_all_quality=f\"!youtube-dl --list-formats https://www.youtube.com/watch?v={youtube_quality_id[-1]} | grep mp4\"\r\n",
        "check_all_quality"
      ],
      "execution_count": null,
      "outputs": [
        {
          "output_type": "execute_result",
          "data": {
            "application/vnd.google.colaboratory.intrinsic+json": {
              "type": "string"
            },
            "text/plain": [
              "'!youtube-dl --list-formats https://www.youtube.com/watch?v=LXb3EKWsInQ | grep mp4'"
            ]
          },
          "metadata": {
            "tags": []
          },
          "execution_count": 43
        }
      ]
    },
    {
      "cell_type": "code",
      "metadata": {
        "colab": {
          "base_uri": "https://localhost:8080/"
        },
        "id": "JEMrZZHRsFI2",
        "outputId": "e78789a8-f402-4aab-dbce-6673133145df"
      },
      "source": [
        "!youtube-dl --list-formats https://www.youtube.com/watch?v=L55Xb3EKWsInQ | grep 2160"
      ],
      "execution_count": null,
      "outputs": [
        {
          "output_type": "stream",
          "text": [
            "315          webm       3840x2160  2160p60 25568k , webm_dash container, vp9@25568k, 60fps, video only, 956.39MiB\n",
            "337          webm       3840x2160  2160p60 HDR 28865k , webm_dash container, vp9.2@28865k, 60fps, video only, 1.05GiB\n"
          ],
          "name": "stdout"
        }
      ]
    },
    {
      "cell_type": "code",
      "metadata": {
        "colab": {
          "base_uri": "https://localhost:8080/"
        },
        "id": "9ySKJvVQsGnu",
        "outputId": "6e75be6c-ed4c-489b-ceb1-53d32f3ea7bb"
      },
      "source": [
        "!youtube-dl --list-formats https://www.youtube.com/watch?v=LXb443EKWsInQ | grep mp4"
      ],
      "execution_count": null,
      "outputs": [
        {
          "output_type": "stream",
          "text": [
            "140          m4a        audio only tiny  129k , m4a_dash container, mp4a.40.2@129k (44100Hz), 4.84MiB\n",
            "160          mp4        256x144    144p   96k , mp4_dash container, avc1.4d400c@  96k, 30fps, video only, 3.61MiB\n",
            "133          mp4        426x240    240p  214k , mp4_dash container, avc1.4d4015@ 214k, 30fps, video only, 8.03MiB\n",
            "134          mp4        640x360    360p  443k , mp4_dash container, avc1.4d401e@ 443k, 30fps, video only, 16.60MiB\n",
            "135          mp4        854x480    480p  845k , mp4_dash container, avc1.4d401f@ 845k, 30fps, video only, 31.61MiB\n",
            "136          mp4        1280x720   720p 1649k , mp4_dash container, avc1.4d401f@1649k, 30fps, video only, 61.69MiB\n",
            "298          mp4        1280x720   720p60 2576k , mp4_dash container, avc1.4d4020@2576k, 60fps, video only, 96.37MiB\n",
            "299          mp4        1920x1080  1080p60 4544k , mp4_dash container, avc1.64002a@4544k, 60fps, video only, 169.99MiB\n",
            "18           mp4        640x360    360p  655k , avc1.42001E, 30fps, mp4a.40.2 (44100Hz), 24.53MiB\n",
            "22           mp4        1280x720   720p 1778k , avc1.64001F, 30fps, mp4a.40.2 (44100Hz) (best)\n"
          ],
          "name": "stdout"
        }
      ]
    },
    {
      "cell_type": "code",
      "metadata": {
        "colab": {
          "base_uri": "https://localhost:8080/"
        },
        "id": "zQi9s6NWqFCX",
        "outputId": "38de396c-0c1d-4230-c51b-b4378bcb4b42"
      },
      "source": [
        "# @title ##**Download youtube Video** { display-mode: \"form\" }\r\n",
        "enter_youtube_link = \"\" #@param {type:\"string\"}\r\n",
        "youtube_quality = \"Auto\"#@param [\"Manual\",\"Auto\"]\r\n",
        "quality_number = \"137\" #@param {type:\"string\"}\r\n",
        "youtube_id=enter_youtube_link.split(\"/\")\r\n",
        "if youtube_quality==\"Auto\":\r\n",
        "        dummy=\"youtube-dl --format mp4 https://www.youtube.com/watch?v=\"+youtube_id[-1]\r\n",
        "        try:\r\n",
        "          os.system(dummy)\r\n",
        "          print(\"Download successful\")\r\n",
        "        except:\r\n",
        "          print(\"Can't download\")\r\n",
        "elif youtube_quality==\"Manual\":\r\n",
        "  dummy=f\"youtube-dl  https://youtu.be/{youtube_id[-1]} -f {quality_number}+bestaudio\"\r\n",
        "  try:\r\n",
        "    os.system(dummy)\r\n",
        "    print(\"Download successful\")\r\n",
        "  except:\r\n",
        "    print(\"Can't download\")\r\n",
        "\r\n",
        "\r\n"
      ],
      "execution_count": null,
      "outputs": [
        {
          "output_type": "stream",
          "text": [
            "Download successful\n"
          ],
          "name": "stdout"
        }
      ]
    },
    {
      "cell_type": "code",
      "metadata": {
        "colab": {
          "base_uri": "https://localhost:8080/"
        },
        "id": "ezlWnV9BRrF9",
        "outputId": "3493c48a-5af3-45a0-a1ad-bd10468ccde3"
      },
      "source": [
        "# @title ##**Download youtube audio** { display-mode: \"form\" }\n",
        "\n",
        "enter_youtube_link = \"\" #@param {type:\"string\"}\n",
        "youtube_id=enter_youtube_link.split(\"/\")\n",
        "new_link=\"https://www.youtube.com/watch?v=\"+youtube_id[-1]                                                            \n",
        "dummy='youtube-dl -f \"bestaudio/best\" -ciw -o \"%(title)s.%(ext)s\" -v --extract-audio --audio-quality 0 --audio-format mp3  '\n",
        "dummy=dummy+new_link\n",
        "with open(\"download_audio.sh\",\"w\") as f:\n",
        "  f.write(dummy)\n",
        "!chmod 777 download_audio.sh  \n",
        "try:\n",
        "  subprocess.call(\"./download_audio.sh\", shell=True)\n",
        "  print(\"Youtube audio download succesful\")\n",
        "except:\n",
        "  print(\"Can't download Youtube audio!\")\n",
        "os.remove(\"download_audio.sh\")\n",
        "\n"
      ],
      "execution_count": null,
      "outputs": [
        {
          "output_type": "stream",
          "text": [
            "Youtube audio download succesful\n"
          ],
          "name": "stdout"
        }
      ]
    },
    {
      "cell_type": "code",
      "metadata": {
        "colab": {
          "background_save": true
        },
        "id": "NMLMhYl0vJZO"
      },
      "source": [
        "#@title ##**PASTE TORRENT/MAGNET LINK HERE (use comma(,) for multiple link)** { display-mode: \"form\" }\r\n",
        "link = \"\" #@param {type:\"string\"}\r\n",
        "import libtorrent as lt\r\n",
        "import time\r\n",
        "import datetime\r\n",
        "\r\n",
        "def torrent_download(link):\r\n",
        "    save_path_is=os.getcwd()\r\n",
        "    ses = lt.session()\r\n",
        "    ses.listen_on(6881, 6891)\r\n",
        "    params = {\r\n",
        "        'save_path': str(save_path_is),\r\n",
        "        'storage_mode': lt.storage_mode_t(2)}\r\n",
        "\r\n",
        "    print(link)\r\n",
        "\r\n",
        "    handle = lt.add_magnet_uri(ses, link, params)\r\n",
        "    ses.start_dht()\r\n",
        "\r\n",
        "    begin = time.time()\r\n",
        "    print(datetime.datetime.now())\r\n",
        "\r\n",
        "    print ('Downloading Metadata...')\r\n",
        "    while (not handle.has_metadata()):\r\n",
        "        time.sleep(1)\r\n",
        "    print ('Got Metadata, Starting Torrent Download...')\r\n",
        "\r\n",
        "    print(\"Starting\", handle.name())\r\n",
        "\r\n",
        "    while (handle.status().state != lt.torrent_status.seeding):\r\n",
        "        s = handle.status()\r\n",
        "        state_str = ['queued', 'checking', 'downloading metadata', \\\r\n",
        "                'downloading', 'finished', 'seeding', 'allocating']\r\n",
        "        print ('%.2f%% complete (down: %.1f kb/s up: %.1f kB/s peers: %d) %s ' % \\\r\n",
        "                (s.progress * 100, s.download_rate / 1000, s.upload_rate / 1000, \\\r\n",
        "                s.num_peers, state_str[s.state]))\r\n",
        "        time.sleep(5)\r\n",
        "\r\n",
        "    end = time.time()\r\n",
        "    print(handle.name(), \"COMPLETE\")\r\n",
        "\r\n",
        "    print(\"Elapsed Time: \",int((end-begin)//60),\"min :\", int((end-begin)%60), \"sec\")\r\n",
        "\r\n",
        "    print(datetime.datetime.now())\r\n",
        "\r\n",
        "for i in link.split(\",\"):\r\n",
        "  torrent_download(link)"
      ],
      "execution_count": null,
      "outputs": []
    },
    {
      "cell_type": "code",
      "metadata": {
        "colab": {
          "base_uri": "https://localhost:8080/",
          "height": 35
        },
        "id": "op_OX1nCviXm",
        "outputId": "90340efb-61ae-4925-86b2-d3e9e757c855"
      },
      "source": [
        "from IPython.display import HTML, display\r\n",
        "import time\r\n",
        "\r\n",
        "def progress(value, max=100):\r\n",
        "    return HTML(\"\"\"\r\n",
        "        <progress\r\n",
        "            value='{value}'\r\n",
        "            max='{max}',\r\n",
        "            style='width: 100%'\r\n",
        "        >\r\n",
        "            {value}\r\n",
        "        </progress>\r\n",
        "    \"\"\".format(value=value, max=max))\r\n",
        "\r\n",
        "out = display(progress(0, 100), display_id=True)\r\n",
        "for ii in range(101):\r\n",
        "    time.sleep(0.02)\r\n",
        "    out.update(progress(ii, 100))"
      ],
      "execution_count": null,
      "outputs": [
        {
          "output_type": "display_data",
          "data": {
            "text/html": [
              "\n",
              "        <progress\n",
              "            value='100'\n",
              "            max='100',\n",
              "            style='width: 100%'\n",
              "        >\n",
              "            100\n",
              "        </progress>\n",
              "    "
            ],
            "text/plain": [
              "<IPython.core.display.HTML object>"
            ]
          },
          "metadata": {
            "tags": []
          }
        }
      ]
    },
    {
      "cell_type": "code",
      "metadata": {
        "colab": {
          "base_uri": "https://localhost:8080/",
          "height": 17
        },
        "id": "I-E43SK3Vv1t",
        "outputId": "7eb3ae15-6b8d-4a16-c1ac-f46620c266b9"
      },
      "source": [
        "# @title ##**Download the file on local device** { display-mode: \"form\" }\n",
        "\n",
        "type_file_path=\"\"#@param {type:\"string\"}\n",
        "files.download(type_file_path)"
      ],
      "execution_count": null,
      "outputs": [
        {
          "output_type": "display_data",
          "data": {
            "application/javascript": [
              "\n",
              "    async function download(id, filename, size) {\n",
              "      if (!google.colab.kernel.accessAllowed) {\n",
              "        return;\n",
              "      }\n",
              "      const div = document.createElement('div');\n",
              "      const label = document.createElement('label');\n",
              "      label.textContent = `Downloading \"${filename}\": `;\n",
              "      div.appendChild(label);\n",
              "      const progress = document.createElement('progress');\n",
              "      progress.max = size;\n",
              "      div.appendChild(progress);\n",
              "      document.body.appendChild(div);\n",
              "\n",
              "      const buffers = [];\n",
              "      let downloaded = 0;\n",
              "\n",
              "      const channel = await google.colab.kernel.comms.open(id);\n",
              "      // Send a message to notify the kernel that we're ready.\n",
              "      channel.send({})\n",
              "\n",
              "      for await (const message of channel.messages) {\n",
              "        // Send a message to notify the kernel that we're ready.\n",
              "        channel.send({})\n",
              "        if (message.buffers) {\n",
              "          for (const buffer of message.buffers) {\n",
              "            buffers.push(buffer);\n",
              "            downloaded += buffer.byteLength;\n",
              "            progress.value = downloaded;\n",
              "          }\n",
              "        }\n",
              "      }\n",
              "      const blob = new Blob(buffers, {type: 'application/binary'});\n",
              "      const a = document.createElement('a');\n",
              "      a.href = window.URL.createObjectURL(blob);\n",
              "      a.download = filename;\n",
              "      div.appendChild(a);\n",
              "      a.click();\n",
              "      div.remove();\n",
              "    }\n",
              "  "
            ],
            "text/plain": [
              "<IPython.core.display.Javascript object>"
            ]
          },
          "metadata": {
            "tags": []
          }
        },
        {
          "output_type": "display_data",
          "data": {
            "application/javascript": [
              "download(\"download_b59a3447-a61d-4e71-9464-6512774ea4ba\", \"Google Maps design - Exploring color.mp3\", 6351477)"
            ],
            "text/plain": [
              "<IPython.core.display.Javascript object>"
            ]
          },
          "metadata": {
            "tags": []
          }
        }
      ]
    }
  ]
}