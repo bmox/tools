{
  "nbformat": 4,
  "nbformat_minor": 0,
  "metadata": {
    "colab": {
      "name": "download_file_from_internet.ipynb",
      "provenance": [],
      "authorship_tag": "ABX9TyNL+fjvT5zztJA4N9Ct4kQR",
      "include_colab_link": true
    },
    "kernelspec": {
      "name": "python3",
      "display_name": "Python 3"
    }
  },
  "cells": [
    {
      "cell_type": "markdown",
      "metadata": {
        "id": "view-in-github",
        "colab_type": "text"
      },
      "source": [
        "<a href=\"https://colab.research.google.com/github/bmox/tools/blob/main/download_file_from_internet.ipynb\" target=\"_parent\"><img src=\"https://colab.research.google.com/assets/colab-badge.svg\" alt=\"Open In Colab\"/></a>"
      ]
    },
    {
      "cell_type": "code",
      "metadata": {
        "colab": {
          "base_uri": "https://localhost:8080/"
        },
        "id": "k3P2au1z14Qc",
        "outputId": "1f30feda-9b1e-4ec7-dfaf-b5c75a430c65"
      },
      "source": [
        "# @title ##**Select your storage type** { display-mode: \"form\" }\n",
        "\n",
        "!pip install kora\n",
        "!pip install youtube_dl\n",
        "import requests \n",
        "from IPython.display import clear_output\n",
        "from google.colab import drive\n",
        "from google.colab import files\n",
        "import glob\n",
        "import os\n",
        "import math\n",
        "from kora import drive\n",
        "import subprocess\n",
        "clear_output()\n",
        "storage=\"temporary\"#@param[\"temporary\",\"google drive\"]\n",
        "if storage==\"google drive\":\n",
        "  drive.mount('/content/gdrive')\n",
        "  os.chdir(\"/content/gdrive/My Drive\")\n",
        "  # clear_output()\n",
        "  try:\n",
        "    os.mkdir(\"download_from_colab\")\n",
        "  except:\n",
        "    pass\n",
        "  os.chdir(\"/content/gdrive/My Drive/download_from_colab\")\n",
        "  print(\"Using drive as a storage\")\n",
        "elif storage==\"temporary\":\n",
        "  os.chdir(\"/content/\")\n",
        "  try:\n",
        "    os.mkdir(\"download_from_colab\")\n",
        "  except:\n",
        "    pass\n",
        "  os.chdir(\"/content/download_from_colab\")\n",
        "  print(\"Using colab as a temporary storage\") "
      ],
      "execution_count": 1,
      "outputs": [
        {
          "output_type": "stream",
          "text": [
            "Using colab as a temporary storage\n"
          ],
          "name": "stdout"
        }
      ]
    },
    {
      "cell_type": "code",
      "metadata": {
        "colab": {
          "base_uri": "https://localhost:8080/"
        },
        "id": "XinkViT2PX7F",
        "outputId": "eca8fee0-7f1d-497e-e8c1-6230942f501d"
      },
      "source": [
        "# @title ##**If you download from link** { display-mode: \"form\" }\n",
        "\n",
        "download_link= \"https://assets.mixkit.co/videos/preview/mixkit-fireworks-illuminating-the-beach-sky-4157-large.mp4\"#@param {type:\"string\"}\n",
        "r = requests.get(download_link) \n",
        "file_name=\"movie.mp4\"#@param {type:\"string\"}\n",
        "with open(file_name,'wb') as f: \n",
        "\tf.write(r.content) \n",
        "print(\"Download Successful!\")"
      ],
      "execution_count": 2,
      "outputs": [
        {
          "output_type": "stream",
          "text": [
            "Download Successful!\n"
          ],
          "name": "stdout"
        }
      ]
    },
    {
      "cell_type": "code",
      "metadata": {
        "colab": {
          "base_uri": "https://localhost:8080/"
        },
        "id": "raqjtNbuP_HV",
        "outputId": "21fcef85-5f68-449c-a4fc-864c894c6fe8"
      },
      "source": [
        "# @title ##**Download file from drive link** { display-mode: \"form\" }\n",
        "# #@markdown ### Default leave it blank (If you not select \"Download from link\" ):\n",
        "drive_download_link = \" https://drive.google.com/file/d/1J7yc_zC1D11BMJyQpl4Wx1GpSHgJjr-u/view?usp=sharing\" #@param {type:\"string\"}\n",
        "# Define some helper functions for downloading pretrained model\n",
        "# taken from this StackOverflow answer: https://stackoverflow.com/a/39225039\n",
        "\n",
        "\n",
        "def download_file_from_google_drive(id, destination):\n",
        "    URL = \"https://docs.google.com/uc?export=download\"\n",
        "\n",
        "    session = requests.Session()\n",
        "\n",
        "    response = session.get(URL, params = { 'id' : id }, stream = True)\n",
        "    token = get_confirm_token(response)\n",
        "\n",
        "    if token:\n",
        "        params = { 'id' : id, 'confirm' : token }\n",
        "        response = session.get(URL, params = params, stream = True)\n",
        "\n",
        "    save_response_content(response, destination)    \n",
        "\n",
        "def get_confirm_token(response):\n",
        "    for key, value in response.cookies.items():\n",
        "        if key.startswith('download_warning'):\n",
        "            return value\n",
        "\n",
        "    return None\n",
        "\n",
        "def save_response_content(response, destination):\n",
        "    CHUNK_SIZE = 32768\n",
        "\n",
        "    with open(destination, \"wb\") as f:\n",
        "        for chunk in response.iter_content(CHUNK_SIZE):\n",
        "            if chunk: # filter out keep-alive new chunks\n",
        "                f.write(chunk)\n",
        "\n",
        "\n",
        "       \n",
        "file_id = drive_download_link.split('/')[-2]\n",
        "give_file_name =\"image.jpg\"#@param {type:\"string\"}\n",
        "try:\n",
        "  download_file_from_google_drive(file_id, give_file_name)\n",
        "  print(\"Download successful!\")\n",
        "except:\n",
        "  print(\"Download failed try again\")\n"
      ],
      "execution_count": 13,
      "outputs": [
        {
          "output_type": "stream",
          "text": [
            "Download successful!\n"
          ],
          "name": "stdout"
        }
      ]
    },
    {
      "cell_type": "code",
      "metadata": {
        "colab": {
          "base_uri": "https://localhost:8080/"
        },
        "id": "t7mtaBLdPnun",
        "outputId": "30acb737-3eb3-4aa8-bcff-3ded9e6e5b8b"
      },
      "source": [
        "# @title ##**Download folder from drive link** { display-mode: \"form\" }\n",
        "drive_folder_download_link = \"https://drive.google.com/drive/folders/1i2Vju11AG9fgSI4NQIVBJmeCeG-fMNxR?usp=sharing\" #@param {type:\"string\"}\n",
        "folder_id = drive_folder_download_link.split('/')[-1].split(\"?\")[0]\n",
        "drive.download_folder(folder_id)\n",
        "clear_output()\n",
        "print(\"Download successful!\")"
      ],
      "execution_count": 15,
      "outputs": [
        {
          "output_type": "stream",
          "text": [
            "Download successful!\n"
          ],
          "name": "stdout"
        }
      ]
    },
    {
      "cell_type": "code",
      "metadata": {
        "colab": {
          "base_uri": "https://localhost:8080/"
        },
        "id": "yqF1A2EUW3TV",
        "outputId": "2959604d-11bb-402e-81c1-b38598383258"
      },
      "source": [
        "# @title ##**Know the file size** { display-mode: \"form\" }\n",
        "\n",
        "def convert_size(size_bytes):\n",
        "   if size_bytes == 0:\n",
        "       return \"0B\"\n",
        "   size_name = (\"B\", \"KB\", \"MB\", \"GB\", \"TB\", \"PB\", \"EB\", \"ZB\", \"YB\")\n",
        "   i = int(math.floor(math.log(size_bytes, 1024)))\n",
        "   p = math.pow(1024, i)\n",
        "   s = round(size_bytes / p, 2)\n",
        "   return \"%s %s\" % (s, size_name[i]) \n",
        "enter_the_file_path=\"/content/download_from_colab/movie.mp4\"#@param {type:\"string\"}   \n",
        "size= os.path.getsize(enter_the_file_path)\n",
        "print(f\"File size: {convert_size(size)}\")   "
      ],
      "execution_count": 4,
      "outputs": [
        {
          "output_type": "stream",
          "text": [
            "File size: 7.45 MB\n"
          ],
          "name": "stdout"
        }
      ]
    },
    {
      "cell_type": "code",
      "metadata": {
        "id": "qk2QVW-shgNb"
      },
      "source": [
        "# @title ##**Google.py** { display-mode: \"form\" }\n",
        "import pickle\n",
        "import os\n",
        "from google_auth_oauthlib.flow import Flow, InstalledAppFlow\n",
        "from googleapiclient.discovery import build\n",
        "from googleapiclient.http import MediaFileUpload, MediaIoBaseDownload\n",
        "from google.auth.transport.requests import Request\n",
        "\n",
        "\n",
        "def Create_Service(client_secret_file, api_name, api_version, *scopes):\n",
        "    print(client_secret_file, api_name, api_version, scopes, sep='-')\n",
        "    CLIENT_SECRET_FILE = client_secret_file\n",
        "    API_SERVICE_NAME = api_name\n",
        "    API_VERSION = api_version\n",
        "    SCOPES = [scope for scope in scopes[0]]\n",
        "    print(SCOPES)\n",
        "\n",
        "    cred = None\n",
        "\n",
        "    pickle_file = f'token_{API_SERVICE_NAME}_{API_VERSION}.pickle'\n",
        "    # print(pickle_file)\n",
        "\n",
        "    if os.path.exists(pickle_file):\n",
        "        with open(pickle_file, 'rb') as token:\n",
        "            cred = pickle.load(token)\n",
        "\n",
        "    if not cred or not cred.valid:\n",
        "        if cred and cred.expired and cred.refresh_token:\n",
        "            cred.refresh(Request())\n",
        "        else:\n",
        "            flow = InstalledAppFlow.from_client_secrets_file(CLIENT_SECRET_FILE, SCOPES)\n",
        "            cred = flow.run_local_server()\n",
        "\n",
        "        with open(pickle_file, 'wb') as token:\n",
        "            pickle.dump(cred, token)\n",
        "\n",
        "    try:\n",
        "        service = build(API_SERVICE_NAME, API_VERSION, credentials=cred)\n",
        "        print(API_SERVICE_NAME, 'service created successfully')\n",
        "        return service\n",
        "    except Exception as e:\n",
        "        print('Unable to connect.')\n",
        "        print(e)\n",
        "        return None\n",
        "\n",
        "def convert_to_RFC_datetime(year=1900, month=1, day=1, hour=0, minute=0):\n",
        "    dt = datetime.datetime(year, month, day, hour, minute, 0).isoformat() + 'Z'\n",
        "    return dt\n"
      ],
      "execution_count": 6,
      "outputs": []
    },
    {
      "cell_type": "code",
      "metadata": {
        "colab": {
          "resources": {
            "http://localhost:8080/nbextensions/google.colab/files.js": {
              "data": "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",
              "ok": true,
              "headers": [
                [
                  "content-type",
                  "application/javascript"
                ]
              ],
              "status": 200,
              "status_text": ""
            }
          },
          "base_uri": "https://localhost:8080/",
          "height": 148
        },
        "id": "RqXCLN7wrezS",
        "outputId": "53fd8f42-75bd-4bec-bdeb-7073fcebd9e8"
      },
      "source": [
        "# @title ##**Upload youtube client secret Key and token_youtube_v3.pickel file** { display-mode: \"form\" }\n",
        "print(\"Upload client secret Key\")\n",
        "uploaded = files.upload()\n",
        "clear_output()\n",
        "client_secrect_key=glob.glob(\"./*.json\")[0].split(\"/\")[-1]\n",
        "print(f\"{client_secrect_key} upload succcessful!\")\n",
        "print(\"\\n\")\n",
        "print(\"Upload pickel file\")\n",
        "uploaded = files.upload()\n",
        "clear_output()\n",
        "pickle_file=glob.glob(\"./*.pickle\")[0].split(\"/\")[-1]\n",
        "print(f\"{pickle_file} upload succcessful!\")"
      ],
      "execution_count": 9,
      "outputs": [
        {
          "output_type": "stream",
          "text": [
            "token_youtube_v3.pickle upload succcessful!\n"
          ],
          "name": "stdout"
        }
      ]
    },
    {
      "cell_type": "markdown",
      "metadata": {
        "id": "SGAG30-3yJsW"
      },
      "source": [
        "#Must Download the image:<br>\n",
        "copy the link and paste in Download from drive link <br>\n",
        "drive_download_link:\n",
        "https://drive.google.com/file/d/1J7yc_zC1D11BMJyQpl4Wx1GpSHgJjr-u/view?usp=sharing<br>\n",
        "give_file_name: image.jpg\n",
        "\n"
      ]
    },
    {
      "cell_type": "code",
      "metadata": {
        "colab": {
          "base_uri": "https://localhost:8080/"
        },
        "id": "_cHALdo8hvFC",
        "outputId": "dc3a11a3-ff42-4d84-a776-257c0c4331b1"
      },
      "source": [
        "# @title ##**Upload on youtube** { display-mode: \"form\" }\n",
        "#https://learndataanalysis.org/how-to-upload-a-video-to-youtube-using-youtube-data-api-in-python/\n",
        "title_name=\"video_upload\"#@param {type:\"string\"}\n",
        "enter_video_file_name=\"movie.mp4\"#@param {type:\"string\"} \n",
        "import datetime\n",
        "# from Google import Create_Service\n",
        "from googleapiclient.http import MediaFileUpload\n",
        "\n",
        "CLIENT_SECRET_FILE = client_secrect_key\n",
        "API_NAME = 'youtube'\n",
        "API_VERSION = 'v3'\n",
        "SCOPES = ['https://www.googleapis.com/auth/youtube.upload']\n",
        "\n",
        "service = Create_Service(CLIENT_SECRET_FILE, API_NAME, API_VERSION, SCOPES)\n",
        "\n",
        "upload_date_time = datetime.datetime(2025, 12, 25, 12, 30, 0).isoformat() + '.000Z'\n",
        "\n",
        "request_body = {\n",
        "    'snippet': {\n",
        "        'categoryI': 19,\n",
        "        'title': title_name,\n",
        "        'description': 'Movie upload',\n",
        "        'tags': ['video', 'video test', ' upload']\n",
        "    },\n",
        "    'status': {\n",
        "        'privacyStatus': 'private',\n",
        "        'publishAt': upload_date_time,\n",
        "        'selfDeclaredMadeForKids': False, \n",
        "    },\n",
        "    'notifySubscribers': False\n",
        "}\n",
        "\n",
        "mediaFile = MediaFileUpload(enter_video_file_name)\n",
        "\n",
        "response_upload = service.videos().insert(\n",
        "    part='snippet,status',\n",
        "    body=request_body,\n",
        "    media_body=mediaFile\n",
        ").execute()\n",
        "\n",
        "\n",
        "service.thumbnails().set(\n",
        "    videoId=response_upload.get('id'),\n",
        "    media_body=MediaFileUpload('image.jpg')\n",
        ").execute()\n",
        "clear_output()\n",
        "os.remove(client_secrect_key)\n",
        "os.remove(pickle_file)\n",
        "os.remove(\"image.jpg\")\n",
        "print(\"upload successful!\")"
      ],
      "execution_count": 10,
      "outputs": [
        {
          "output_type": "stream",
          "text": [
            "upload successful!\n"
          ],
          "name": "stdout"
        }
      ]
    },
    {
      "cell_type": "code",
      "metadata": {
        "colab": {
          "base_uri": "https://localhost:8080/"
        },
        "id": "ezlWnV9BRrF9",
        "outputId": "856cb4ef-2b99-4b31-c364-fda8466179ef"
      },
      "source": [
        "# @title ##**Download youtube video or audio** { display-mode: \"form\" }\n",
        "download_format=\"audio\"#@param[\"video\",\"audio\"]\n",
        "enter_youtube_link = \"https://youtu.be/OkXttCJFL5g\" #@param {type:\"string\"}\n",
        "if download_format==\"video\":\n",
        "  youtube_id=enter_youtube_link.split(\"/\")\n",
        "  dummy=\"youtube-dl --format mp4 https://www.youtube.com/watch?v=\"+youtube_id[-1]\n",
        "  try:\n",
        "    os.system(dummy)\n",
        "    print(\"Youtube video download succesful\")\n",
        "  except:\n",
        "    print(\"Can't download Youtube video!\")\n",
        "elif download_format==\"audio\":\n",
        "  youtube_id=enter_youtube_link.split(\"/\")\n",
        "  new_link=\"https://www.youtube.com/watch?v=\"+youtube_id[-1]                                                            \n",
        "  dummy='youtube-dl -f \"bestaudio/best\" -ciw -o \"%(title)s.%(ext)s\" -v --extract-audio --audio-quality 0 --audio-format mp3  '\n",
        "  dummy=dummy+new_link\n",
        "  with open(\"download_audio.sh\",\"w\") as f:\n",
        "    f.write(dummy)\n",
        "  !chmod 777 download_audio.sh  \n",
        "  try:\n",
        "    subprocess.call(\"./download_audio.sh\", shell=True)\n",
        "    print(\"Youtube audio download succesful\")\n",
        "  except:\n",
        "    print(\"Can't download Youtube audio!\")\n",
        "  os.remove(\"download_audio.sh\")\n",
        "\n"
      ],
      "execution_count": 2,
      "outputs": [
        {
          "output_type": "stream",
          "text": [
            "Youtube audio download succesful\n"
          ],
          "name": "stdout"
        }
      ]
    },
    {
      "cell_type": "code",
      "metadata": {
        "colab": {
          "base_uri": "https://localhost:8080/",
          "height": 17
        },
        "id": "I-E43SK3Vv1t",
        "outputId": "7eb3ae15-6b8d-4a16-c1ac-f46620c266b9"
      },
      "source": [
        "# @title ##**Download the file on local device** { display-mode: \"form\" }\n",
        "\n",
        "type_file_path=\"/content/download_from_colab/Google Maps design - Exploring color.mp3\"#@param {type:\"string\"}\n",
        "files.download(type_file_path)"
      ],
      "execution_count": 3,
      "outputs": [
        {
          "output_type": "display_data",
          "data": {
            "application/javascript": [
              "\n",
              "    async function download(id, filename, size) {\n",
              "      if (!google.colab.kernel.accessAllowed) {\n",
              "        return;\n",
              "      }\n",
              "      const div = document.createElement('div');\n",
              "      const label = document.createElement('label');\n",
              "      label.textContent = `Downloading \"${filename}\": `;\n",
              "      div.appendChild(label);\n",
              "      const progress = document.createElement('progress');\n",
              "      progress.max = size;\n",
              "      div.appendChild(progress);\n",
              "      document.body.appendChild(div);\n",
              "\n",
              "      const buffers = [];\n",
              "      let downloaded = 0;\n",
              "\n",
              "      const channel = await google.colab.kernel.comms.open(id);\n",
              "      // Send a message to notify the kernel that we're ready.\n",
              "      channel.send({})\n",
              "\n",
              "      for await (const message of channel.messages) {\n",
              "        // Send a message to notify the kernel that we're ready.\n",
              "        channel.send({})\n",
              "        if (message.buffers) {\n",
              "          for (const buffer of message.buffers) {\n",
              "            buffers.push(buffer);\n",
              "            downloaded += buffer.byteLength;\n",
              "            progress.value = downloaded;\n",
              "          }\n",
              "        }\n",
              "      }\n",
              "      const blob = new Blob(buffers, {type: 'application/binary'});\n",
              "      const a = document.createElement('a');\n",
              "      a.href = window.URL.createObjectURL(blob);\n",
              "      a.download = filename;\n",
              "      div.appendChild(a);\n",
              "      a.click();\n",
              "      div.remove();\n",
              "    }\n",
              "  "
            ],
            "text/plain": [
              "<IPython.core.display.Javascript object>"
            ]
          },
          "metadata": {
            "tags": []
          }
        },
        {
          "output_type": "display_data",
          "data": {
            "application/javascript": [
              "download(\"download_b59a3447-a61d-4e71-9464-6512774ea4ba\", \"Google Maps design - Exploring color.mp3\", 6351477)"
            ],
            "text/plain": [
              "<IPython.core.display.Javascript object>"
            ]
          },
          "metadata": {
            "tags": []
          }
        }
      ]
    },
    {
      "cell_type": "code",
      "metadata": {
        "id": "Mxat2ZgfdJcF"
      },
      "source": [
        "ada"
      ],
      "execution_count": null,
      "outputs": []
    }
  ]
}